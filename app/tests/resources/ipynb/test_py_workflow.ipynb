{
 "cells": [
  {
   "cell_type": "code",
   "execution_count": null,
   "id": "af2a436e-6682-40cb-bd4c-fc7aa0a719ba",
   "metadata": {},
   "outputs": [],
   "source": [
    "!conda install --yes -c conda-forge pdal python-pdal gdal dask\n",
    "!conda activate --yes pdalpy\n",
    "!pip install dask distributed laserfarm\n",
    "!conda upgrade --yes numpy"
   ]
  },
  {
   "cell_type": "code",
   "execution_count": null,
   "id": "bca08f46-0546-47a6-b0eb-d9fa3a5c9265",
   "metadata": {},
   "outputs": [],
   "source": [
    "# conf \n",
    "import os\n",
    "\n",
    "conf_data_folder = os.path.join('/tmp','data')\n",
    "\n",
    "conf_feature_name = 'perc_95_normalized_height'\n",
    "conf_validate_precision = '0.001'\n",
    "conf_tile_mesh_size = '10.'\n",
    "conf_filter_type= 'select_equal'\n",
    "conf_attribute = 'raw_classification'\n",
    "conf_min_x = '-113107.81'\n",
    "conf_max_x = '398892.19'\n",
    "conf_min_y = '214783.87'\n",
    "conf_max_y = '726783.87'\n",
    "conf_n_tiles_side = '512'\n",
    "conf_apply_filter_value = '1'\n",
    "conf_laz_compression_factor = '7'\n",
    "conf_max_filesize = '262144000'  # desired max file size (in bytes)\n",
    "\n"
   ]
  },
  {
   "cell_type": "code",
   "execution_count": null,
   "id": "00dd23e8-531e-4dd8-90aa-43573c240a48",
   "metadata": {},
   "outputs": [],
   "source": [
    "# Create file \n",
    "\n",
    "L = [\"a\\n\", \"b\\n\", \"c\\n\"]\n",
    "file_path =  os.path.join(conf_data_folder,'hello.txt')\n",
    "fp = open(file_path, 'w')\n",
    "fp.writelines(L)\n",
    "fp.close()\n",
    "\n",
    "from os import listdir\n",
    "from os.path import isfile, join\n",
    "onlyfiles = [f for f in listdir(conf_data_folder) if isfile(join(conf_data_folder, f))]\n",
    "\n",
    "print(onlyfiles)\n"
   ]
  },
  {
   "cell_type": "code",
   "execution_count": null,
   "id": "452c7037-2686-46bc-90d2-1d681b2b4a72",
   "metadata": {},
   "outputs": [],
   "source": [
    "#read file lines\n",
    "\n",
    "from os import listdir\n",
    "from os.path import isfile, join\n",
    "onlyfiles = [f for f in listdir(conf_data_folder) if isfile(join(conf_data_folder, f))]\n",
    "\n",
    "print(onlyfiles)\n",
    "\n",
    "f = open(file_path, 'r')\n",
    "lines = f.readlines()\n",
    "f.close()"
   ]
  },
  {
   "cell_type": "code",
   "execution_count": null,
   "id": "918da96c-0e5d-4c49-8604-80dbea97f034",
   "metadata": {},
   "outputs": [],
   "source": [
    "#loop file lines\n",
    "\n",
    "count = 0\n",
    "# Strips the newline character\n",
    "for l in lines:\n",
    "    count += 1\n",
    "    print(\"Line{}: {}\".format(count, l.strip()))"
   ]
  },
  {
   "cell_type": "code",
   "execution_count": null,
   "id": "25bdee30-184c-4fb9-9f60-6cb2bf3830a4",
   "metadata": {},
   "outputs": [],
   "source": [
    "# Add1\n",
    "\n",
    "a = count + 1"
   ]
  },
  {
   "cell_type": "code",
   "execution_count": null,
   "id": "c1ee0030-e097-49e9-b67c-69f21a8a6da3",
   "metadata": {},
   "outputs": [],
   "source": [
    "#Anti-pattern  \n",
    "some_list = range(count, a+1)\n",
    "\n",
    "msg = '1'\n",
    "\n"
   ]
  },
  {
   "cell_type": "code",
   "execution_count": null,
   "id": "7b8027f6-7be6-43a9-958f-2337a0ed0733",
   "metadata": {},
   "outputs": [],
   "source": [
    "# input lists\n",
    "\n",
    "list_of_paths = [\"/webdav/LAZ/targets_myname\",\"/webdav/LAZ/targets_myname\",\"/webdav/LAZ/targets_myname\",\"/webdav/LAZ/targets_myname\",\"/webdav/LAZ/targets_myname\",\"/webdav/LAZ/targets_myname\",\"/webdav/LAZ/targets_myname\",\"/webdav/LAZ/targets_myname\",\"/webdav/LAZ/targets_myname\",\"/webdav/LAZ/targets_myname\"]\n",
    "list_of_ints = [1,2,35,6,65]\n",
    "print(msg)"
   ]
  },
  {
   "cell_type": "code",
   "execution_count": null,
   "id": "ffdc9192-db4e-44f4-8a13-62a450ac3aa1",
   "metadata": {},
   "outputs": [],
   "source": [
    "#loop list\n",
    "\n",
    "for l in list_of_paths:\n",
    "    print(l)"
   ]
  },
  {
   "cell_type": "code",
   "execution_count": null,
   "id": "2899e58e-2c8b-46f4-a7a5-ed02156371a4",
   "metadata": {},
   "outputs": [],
   "source": [
    "#loop int list \n",
    "\n",
    "for i in list_of_ints:\n",
    "    a = i -1\n",
    "    print(a)"
   ]
  },
  {
   "cell_type": "code",
   "execution_count": null,
   "id": "3ea24b6d-f13c-42d9-a340-42cd0aa7ae4c",
   "metadata": {},
   "outputs": [],
   "source": [
    "# vol2bird \n",
    "import os\n",
    "print(a)\n",
    "cmd = \"vol2bird --version\"\n",
    "\n",
    "msg = os.system(cmd)  # returns the exit code in unix\n",
    "\n",
    "\n"
   ]
  },
  {
   "cell_type": "code",
   "execution_count": null,
   "id": "96a0cbba-838e-4d10-9fd5-b412ec1fbbeb",
   "metadata": {},
   "outputs": [],
   "source": [
    "# KNMI_vol_h5_to_ODIM_h5 \n",
    "import os\n",
    "print(a)\n",
    "cmd = \"KNMI_vol_h5_to_ODIM_h5 \"\n",
    "\n",
    "msg = os.system(cmd)  # returns the exit code in unix"
   ]
  },
  {
   "cell_type": "code",
   "execution_count": null,
   "id": "f7535b05-69e8-4633-aa40-32f7da83faaa",
   "metadata": {},
   "outputs": [],
   "source": [
    "# Print msg\n",
    "print('msg:', msg)"
   ]
  },
  {
   "cell_type": "code",
   "execution_count": null,
   "id": "9d5994b6-bef4-4b44-ba80-e2b5598778b3",
   "metadata": {},
   "outputs": [],
   "source": [
    "# int \n",
    "\n",
    "a = 1\n"
   ]
  },
  {
   "cell_type": "code",
   "execution_count": null,
   "id": "1ec428b1-bb08-4ed1-aa7a-b9097a4d3424",
   "metadata": {},
   "outputs": [],
   "source": [
    "# process int \n",
    "\n",
    "b = a + 1"
   ]
  },
  {
   "cell_type": "code",
   "execution_count": null,
   "id": "08b6a2cb-d5a4-4b83-b1b2-a8f20fef69c1",
   "metadata": {},
   "outputs": [],
   "source": [
    "# float\n",
    "\n",
    "c = 2.4\n"
   ]
  },
  {
   "cell_type": "code",
   "execution_count": null,
   "id": "df809acb-9fff-4cd4-b271-76325662d4e8",
   "metadata": {},
   "outputs": [],
   "source": [
    "# process float \n",
    "\n",
    "d = c / 1.0\n"
   ]
  },
  {
   "cell_type": "code",
   "execution_count": null,
   "id": "314dbf16-a106-40a8-be0b-38f26e5f39c8",
   "metadata": {},
   "outputs": [],
   "source": [
    "# vars types\n",
    "param_string = 'param_string value'\n",
    "param_string_with_comment = 'param_string value'  # comment\n",
    "param_int = 1\n",
    "param_float = 1.1\n",
    "param_list_int = [1, 2, 3]\n",
    "param_list_str = [\"1\", \"space in elem\", \"3\"]\n",
    "\n",
    "conf_string = 'param_string value'\n",
    "conf_string_with_comment = 'param_string value'  # comment\n",
    "conf_int = 1\n",
    "conf_float = 1.1\n",
    "conf_list_int = [1, 2, 3]\n",
    "conf_list_str = [\"conf_list_str\", \"space in elem\", \"3\"]\n",
    "\n",
    "var_string = 'var_string value'\n",
    "var_string_with_comment = 'var_string value'  # comment\n",
    "var_int = 1\n",
    "var_float = 1.1\n",
    "var_list_int = [1, 2, 3]\n",
    "var_list_str = [\"var_list_str\", \"space in elem\", \"3\"]\n"
   ]
  }
 ],
 "metadata": {
  "kernelspec": {
   "display_name": "Python 3 (ipykernel)",
   "language": "python",
   "name": "python3"
  },
  "language_info": {
   "codemirror_mode": {
    "name": "ipython",
    "version": 3
   },
   "file_extension": ".py",
   "mimetype": "text/x-python",
   "name": "python",
   "nbconvert_exporter": "python",
   "pygments_lexer": "ipython3",
   "version": "3.12.7"
  }
 },
 "nbformat": 4,
 "nbformat_minor": 5
}
