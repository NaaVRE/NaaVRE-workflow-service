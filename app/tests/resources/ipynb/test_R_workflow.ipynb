{
 "cells": [
  {
   "cell_type": "code",
   "execution_count": 1,
   "id": "f54b5c5e-fda7-4eb8-a052-6987ac3d12c1",
   "metadata": {},
   "outputs": [
    {
     "data": {
      "text/plain": [
       "file_path: 'character'"
      ]
     },
     "metadata": {},
     "output_type": "display_data"
    }
   ],
   "source": [
    "# Create file R\n",
    "L <- c(\"a\", \"b\", \"c\")\n",
    "\n",
    "conf_data_folder <- \"/tmp/data\"\n",
    "file_path <- file.path(conf_data_folder, \"hello.txt\")\n",
    "\n",
    "writeLines(L, file_path)\n",
    "\n",
    "onlyfiles <- list.files(conf_data_folder, full.names = TRUE)\n",
    "\n",
    "print(onlyfiles)"
   ]
  },
  {
   "cell_type": "code",
   "execution_count": 2,
   "id": "2a412d8e-2997-417e-8d91-7073020cc780",
   "metadata": {},
   "outputs": [
    {
     "data": {
      "text/plain": [
       "file_path: 'character'"
      ]
     },
     "metadata": {},
     "output_type": "display_data"
    },
    {
     "data": {
      "text/plain": [
       "lines: 'character'"
      ]
     },
     "metadata": {},
     "output_type": "display_data"
    }
   ],
   "source": [
    "# read file lines R\n",
    "conf_data_folder <- file.path('/tmp', 'data')\n",
    "\n",
    "onlyfiles <- list.files(conf_data_folder, full.names = TRUE)\n",
    "\n",
    "print(onlyfiles)\n",
    "\n",
    "f <- file(file_path, \"r\")\n",
    "lines <- readLines(f)\n",
    "close(f)"
   ]
  },
  {
   "cell_type": "code",
   "execution_count": 3,
   "id": "ba77e92b-b72e-4158-88af-5cc18912fe9f",
   "metadata": {},
   "outputs": [
    {
     "name": "stdout",
     "output_type": "stream",
     "text": [
      "Line 1: a\n",
      "Line 2: b\n",
      "Line 3: c\n"
     ]
    }
   ],
   "source": [
    "# loop file lines R\n",
    "count <- 0\n",
    "for (l in lines) {\n",
    "    count <- count + 1\n",
    "    cat(sprintf(\"Line %d: %s\\n\", count, trimws(l)))\n",
    "}"
   ]
  },
  {
   "cell_type": "code",
   "execution_count": 4,
   "id": "789838c1-cf8c-47f1-8a3c-8f4c76cee20d",
   "metadata": {},
   "outputs": [],
   "source": [
    "# Add1 R\n",
    "a = count + 1"
   ]
  },
  {
   "cell_type": "code",
   "execution_count": 5,
   "id": "c9a14421-d41c-471b-9b38-ccbf6e58ca31",
   "metadata": {},
   "outputs": [
    {
     "data": {
      "text/plain": [
       "list_of_ints: 'double'"
      ]
     },
     "metadata": {},
     "output_type": "display_data"
    },
    {
     "data": {
      "text/plain": [
       "list_of_paths: 'character'"
      ]
     },
     "metadata": {},
     "output_type": "display_data"
    }
   ],
   "source": [
    "# input lists R\n",
    "list_of_paths <- c(\n",
    "  \"/webdav/LAZ/targets_myname\",\n",
    "  \"/webdav/LAZ/targets_myname\",\n",
    "  \"/webdav/LAZ/targets_myname\",\n",
    "  \"/webdav/LAZ/targets_myname\"\n",
    ")\n",
    "\n",
    "list_of_ints <- c(1, 2, 35, 6, 65)\n",
    "\n",
    "print(list_of_paths)\n",
    "print(list_of_ints)"
   ]
  },
  {
   "cell_type": "code",
   "execution_count": 6,
   "id": "bbd2a2ac-db05-4e98-9616-6845087ee9b2",
   "metadata": {},
   "outputs": [
    {
     "name": "stdout",
     "output_type": "stream",
     "text": [
      "[1] 1\n",
      "[1] 2\n",
      "[1] 35\n",
      "[1] 6\n",
      "[1] 65\n"
     ]
    }
   ],
   "source": [
    "# loop int list R\n",
    "for (l in list_of_ints) {\n",
    "    print(l)\n",
    "}"
   ]
  },
  {
   "cell_type": "code",
   "execution_count": 7,
   "id": "790fc7af-3348-42ae-b33a-00f8f78fd5c5",
   "metadata": {},
   "outputs": [
    {
     "name": "stdout",
     "output_type": "stream",
     "text": [
      "[1] \"/webdav/LAZ/targets_myname\"\n",
      "[1] \"/webdav/LAZ/targets_myname\"\n",
      "[1] \"/webdav/LAZ/targets_myname\"\n",
      "[1] \"/webdav/LAZ/targets_myname\"\n"
     ]
    }
   ],
   "source": [
    "# loop list R\n",
    "for (l in list_of_paths) {\n",
    "    print(l)\n",
    "}"
   ]
  }
 ],
 "metadata": {
  "kernelspec": {
   "display_name": "R",
   "language": "R",
   "name": "ir"
  },
  "language_info": {
   "codemirror_mode": "r",
   "file_extension": ".r",
   "mimetype": "text/x-r-source",
   "name": "R",
   "pygments_lexer": "r",
   "version": "4.4.2"
  }
 },
 "nbformat": 4,
 "nbformat_minor": 5
}
